{
  "nbformat": 4,
  "nbformat_minor": 0,
  "metadata": {
    "colab": {
      "name": "dataTransformations.ipynb",
      "provenance": [],
      "authorship_tag": "ABX9TyPMRS8QBJxJWuMgM3KOYK1w",
      "include_colab_link": true
    },
    "kernelspec": {
      "name": "python3",
      "display_name": "Python 3"
    },
    "language_info": {
      "name": "python"
    }
  },
  "cells": [
    {
      "cell_type": "markdown",
      "metadata": {
        "id": "view-in-github",
        "colab_type": "text"
      },
      "source": [
        "<a href=\"https://colab.research.google.com/github/griffinsnest/Midterm-Review/blob/main/dataTransformations.ipynb\" target=\"_parent\"><img src=\"https://colab.research.google.com/assets/colab-badge.svg\" alt=\"Open In Colab\"/></a>"
      ]
    },
    {
      "cell_type": "code",
      "metadata": {
        "id": "ub9iOvsQrGw0"
      },
      "source": [
        "import pandas as pd\n",
        "import numpy as np\n",
        "from sklearn import linear_model as lm\n",
        "\n",
        "housingData = pd.read_csv('/content/melb_data.csv')\n",
        "\n",
        "housingData['Date'] = pd.to_datetime(housingData['Date'])\n",
        "\n",
        "#housingData.sample(10)\n",
        "\n",
        "housingData['Propertycount'] = housingData['Propertycount'].astype('int')\n",
        "\n",
        "#housingData['Propertycount'].sample(10)\n",
        "\n",
        "# housingData.Type.unique() get all uniqe elements in column this case \"Type\"\n",
        "typeMap = {housingData.Type.unique()[0]:'house', housingData.Type.unique()[1]:'unit', housingData.Type.unique()[2]:'town house'}\n",
        "\n",
        "housingData.Type.replace(typeMap , inplace=True)\n",
        "\n",
        "#housingData['Type'].sample(10)\n",
        "\n",
        "housingData['Type'] = housingData['Type'].astype('category')\n",
        "\n",
        "housingData.Type.memory_usage() #memeory usage much smaller after transformation\n",
        "\n",
        "housingData['Date'].sample(10)\n",
        "\n",
        "housingData['Date'].dt.month.sample(10) #gets the month spcifically from the date data\n",
        "\n",
        "housingData['Date'].dt.weekday.sample(10) #gets the day of the week spcifically from the date/time data\n",
        "\n",
        "\n",
        "housingData.Address.str.upper().sample(10) #makes every letter uppercase"
      ],
      "execution_count": null,
      "outputs": []
    },
    {
      "cell_type": "code",
      "metadata": {
        "colab": {
          "base_uri": "https://localhost:8080/",
          "height": 313
        },
        "id": "ai6iQVO4u24N",
        "outputId": "e1e4f30f-9ec0-4e6f-f94e-66300058871a"
      },
      "source": [
        "import pandas as pd\n",
        "import numpy as np\n",
        "from datetime import date\n",
        "\n",
        "marketingData = pd.read_csv('/content/marketing_data.csv')\n",
        "\n",
        "marketingData['Age'] = date.today().year - marketingData['Year_Birth']\n",
        "\n",
        "marketingData.sample(10)\n",
        "\n",
        "marketingData['Year'] = pd.DatetimeIndex(marketingData['Dt_Customer']).year\n",
        "\n",
        "marketingData['Enrollment Length'] = date.today().year - marketingData['Year']\n",
        "\n",
        "marketingData[' Income '] = marketingData[' Income '].str.replace(',', '').str.replace('$', '')"
      ],
      "execution_count": null,
      "outputs": [
        {
          "output_type": "error",
          "ename": "AttributeError",
          "evalue": "ignored",
          "traceback": [
            "\u001b[0;31m---------------------------------------------------------------------------\u001b[0m",
            "\u001b[0;31mAttributeError\u001b[0m                            Traceback (most recent call last)",
            "\u001b[0;32m<ipython-input-36-3594c16be4c5>\u001b[0m in \u001b[0;36m<module>\u001b[0;34m()\u001b[0m\n\u001b[1;32m     13\u001b[0m \u001b[0mmarketingData\u001b[0m\u001b[0;34m[\u001b[0m\u001b[0;34m'Enrollment Length'\u001b[0m\u001b[0;34m]\u001b[0m \u001b[0;34m=\u001b[0m \u001b[0mdate\u001b[0m\u001b[0;34m.\u001b[0m\u001b[0mtoday\u001b[0m\u001b[0;34m(\u001b[0m\u001b[0;34m)\u001b[0m\u001b[0;34m.\u001b[0m\u001b[0myear\u001b[0m \u001b[0;34m-\u001b[0m \u001b[0mmarketingData\u001b[0m\u001b[0;34m[\u001b[0m\u001b[0;34m'Year'\u001b[0m\u001b[0;34m]\u001b[0m\u001b[0;34m\u001b[0m\u001b[0;34m\u001b[0m\u001b[0m\n\u001b[1;32m     14\u001b[0m \u001b[0;34m\u001b[0m\u001b[0m\n\u001b[0;32m---> 15\u001b[0;31m \u001b[0mmarketingData\u001b[0m\u001b[0;34m.\u001b[0m \u001b[0mIncome\u001b[0m \u001b[0;34m.\u001b[0m\u001b[0mdtype\u001b[0m\u001b[0;34m(\u001b[0m\u001b[0;34m)\u001b[0m\u001b[0;34m\u001b[0m\u001b[0;34m\u001b[0m\u001b[0m\n\u001b[0m",
            "\u001b[0;32m/usr/local/lib/python3.7/dist-packages/pandas/core/generic.py\u001b[0m in \u001b[0;36m__getattr__\u001b[0;34m(self, name)\u001b[0m\n\u001b[1;32m   5139\u001b[0m             \u001b[0;32mif\u001b[0m \u001b[0mself\u001b[0m\u001b[0;34m.\u001b[0m\u001b[0m_info_axis\u001b[0m\u001b[0;34m.\u001b[0m\u001b[0m_can_hold_identifiers_and_holds_name\u001b[0m\u001b[0;34m(\u001b[0m\u001b[0mname\u001b[0m\u001b[0;34m)\u001b[0m\u001b[0;34m:\u001b[0m\u001b[0;34m\u001b[0m\u001b[0;34m\u001b[0m\u001b[0m\n\u001b[1;32m   5140\u001b[0m                 \u001b[0;32mreturn\u001b[0m \u001b[0mself\u001b[0m\u001b[0;34m[\u001b[0m\u001b[0mname\u001b[0m\u001b[0;34m]\u001b[0m\u001b[0;34m\u001b[0m\u001b[0;34m\u001b[0m\u001b[0m\n\u001b[0;32m-> 5141\u001b[0;31m             \u001b[0;32mreturn\u001b[0m \u001b[0mobject\u001b[0m\u001b[0;34m.\u001b[0m\u001b[0m__getattribute__\u001b[0m\u001b[0;34m(\u001b[0m\u001b[0mself\u001b[0m\u001b[0;34m,\u001b[0m \u001b[0mname\u001b[0m\u001b[0;34m)\u001b[0m\u001b[0;34m\u001b[0m\u001b[0;34m\u001b[0m\u001b[0m\n\u001b[0m\u001b[1;32m   5142\u001b[0m \u001b[0;34m\u001b[0m\u001b[0m\n\u001b[1;32m   5143\u001b[0m     \u001b[0;32mdef\u001b[0m \u001b[0m__setattr__\u001b[0m\u001b[0;34m(\u001b[0m\u001b[0mself\u001b[0m\u001b[0;34m,\u001b[0m \u001b[0mname\u001b[0m\u001b[0;34m:\u001b[0m \u001b[0mstr\u001b[0m\u001b[0;34m,\u001b[0m \u001b[0mvalue\u001b[0m\u001b[0;34m)\u001b[0m \u001b[0;34m->\u001b[0m \u001b[0;32mNone\u001b[0m\u001b[0;34m:\u001b[0m\u001b[0;34m\u001b[0m\u001b[0;34m\u001b[0m\u001b[0m\n",
            "\u001b[0;31mAttributeError\u001b[0m: 'DataFrame' object has no attribute 'Income'"
          ]
        }
      ]
    }
  ]
}