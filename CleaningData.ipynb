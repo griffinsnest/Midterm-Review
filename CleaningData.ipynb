{
  "nbformat": 4,
  "nbformat_minor": 0,
  "metadata": {
    "colab": {
      "name": "CleaningData.ipynb",
      "provenance": [],
      "authorship_tag": "ABX9TyMojaxlLD539GoQVxHjUYWz",
      "include_colab_link": true
    },
    "kernelspec": {
      "name": "python3",
      "display_name": "Python 3"
    },
    "language_info": {
      "name": "python"
    }
  },
  "cells": [
    {
      "cell_type": "markdown",
      "metadata": {
        "id": "view-in-github",
        "colab_type": "text"
      },
      "source": [
        "<a href=\"https://colab.research.google.com/github/griffinsnest/Midterm-Review/blob/main/CleaningData.ipynb\" target=\"_parent\"><img src=\"https://colab.research.google.com/assets/colab-badge.svg\" alt=\"Open In Colab\"/></a>"
      ]
    },
    {
      "cell_type": "code",
      "metadata": {
        "id": "SFR6bgHxFmaN"
      },
      "source": [
        "import pandas as pd\n",
        "import numpy as np\n",
        "from sklearn import linear_model as lm\n",
        "\n",
        "# Load data from CSV files into variable arrays\n",
        "Data = pd.read_csv('https://github.com/realpython/python-data-cleaning/raw/master/Datasets/BL-Flickr-Images-Book.csv')\n",
        "\n",
        "\n",
        "Data['Edition Statement'].isna().value_counts(dropna=False)/len(Data)\n",
        "Data['Corporate Author'].isna().value_counts(dropna=False)/len(Data)\n",
        "Data['Corporate Contributors'].isna().value_counts(dropna=False)/len(Data)\n",
        "Data['Former owner'].isna().value_counts(dropna=False)/len(Data)\n",
        "Data['Engraver'].isna().value_counts(dropna=False)/len(Data)\n",
        "\n",
        "to_drop = ['Edition Statement', 'Corporate Author', 'Corporate Contributors', 'Former owner', 'Engraver']\n",
        "Data.drop(columns=to_drop, inplace=True)\n",
        "\n",
        "Data['Identifier'].is_unique #checks if unique?\n",
        "Data.set_index('Identifier', inplace=True)\n",
        "\n",
        "regex = r'^(\\d{4})' #just grab the first four digits that begin in each column\n",
        "\n",
        "DataExtr = Data['Date of Publication'].str.extract(regex, expand=False)\n",
        "\n",
        "Data['Date of Publication'] = pd.to_numeric(DataExtr, downcast='integer')\n",
        "\n",
        "Data['Date of Publication'].isnull().sum()/len(Data) # check what percentage of year column is null\n",
        "\n",
        "Data['Place of Publication'].head(10)\n",
        "\n",
        "DataPop = Data['Place of Publication']\n",
        "\n",
        "london = DataPop.str.contains(\"London\")\n",
        "\n",
        "oxford = DataPop.str.contains(\"Oxford\")\n",
        "\n",
        "Data['Place of Publication'] = np.where(london, 'London', \n",
        "         np.where(oxford, 'Oxford', \n",
        "                  DataPop.str.replace('-', ' ')))\n",
        "Data.head()\n",
        "#Data['Place of Publication'].head(10)"
      ],
      "execution_count": null,
      "outputs": []
    },
    {
      "cell_type": "code",
      "metadata": {
        "colab": {
          "base_uri": "https://localhost:8080/",
          "height": 206
        },
        "id": "YpNYyttNr-EP",
        "outputId": "c526a3ab-9e9e-4131-a3dd-33b06cf2ada6"
      },
      "source": [
        "import pandas as pd\n",
        "import numpy as np\n",
        "from sklearn import linear_model as lm\n",
        "\n",
        "\n",
        "university_towns = []\n",
        "\n",
        "with open('/content/university_towns.txt') as file:\n",
        "  for line in file:\n",
        "    if '[edit]' in line:\n",
        "      state = line\n",
        "    else:\n",
        "      university_towns.append((state, line))\n",
        "\n",
        "university_towns[:10]\n",
        "\n",
        "towns_df = pd.DataFrame(university_towns, columns=['State', 'RegionName'])\n",
        "\n",
        "#towns_df['State'] = towns_df['State'].str.replace(\"\\[edit\\]\\\\n\", '')\n",
        "\n",
        "def get_city(item):\n",
        "  if \" (\" in item:\n",
        "    return item[:item.find(')')+1]\n",
        "  elif '[' in item:\n",
        "    return item[:item.find('[')]\n",
        "  else:\n",
        "    return item\n",
        "\n",
        "towns_df = towns_df.applymap(get_city)\n",
        "\n",
        "towns_df.head()"
      ],
      "execution_count": null,
      "outputs": [
        {
          "output_type": "execute_result",
          "data": {
            "text/html": [
              "<div>\n",
              "<style scoped>\n",
              "    .dataframe tbody tr th:only-of-type {\n",
              "        vertical-align: middle;\n",
              "    }\n",
              "\n",
              "    .dataframe tbody tr th {\n",
              "        vertical-align: top;\n",
              "    }\n",
              "\n",
              "    .dataframe thead th {\n",
              "        text-align: right;\n",
              "    }\n",
              "</style>\n",
              "<table border=\"1\" class=\"dataframe\">\n",
              "  <thead>\n",
              "    <tr style=\"text-align: right;\">\n",
              "      <th></th>\n",
              "      <th>State</th>\n",
              "      <th>RegionName</th>\n",
              "    </tr>\n",
              "  </thead>\n",
              "  <tbody>\n",
              "    <tr>\n",
              "      <th>0</th>\n",
              "      <td>Alabama</td>\n",
              "      <td>Auburn (Auburn University)</td>\n",
              "    </tr>\n",
              "    <tr>\n",
              "      <th>1</th>\n",
              "      <td>Alabama</td>\n",
              "      <td>Florence (University of North Alabama)</td>\n",
              "    </tr>\n",
              "    <tr>\n",
              "      <th>2</th>\n",
              "      <td>Alabama</td>\n",
              "      <td>Jacksonville (Jacksonville State University)</td>\n",
              "    </tr>\n",
              "    <tr>\n",
              "      <th>3</th>\n",
              "      <td>Alabama</td>\n",
              "      <td>Livingston (University of West Alabama)</td>\n",
              "    </tr>\n",
              "    <tr>\n",
              "      <th>4</th>\n",
              "      <td>Alabama</td>\n",
              "      <td>Montevallo (University of Montevallo)</td>\n",
              "    </tr>\n",
              "  </tbody>\n",
              "</table>\n",
              "</div>"
            ],
            "text/plain": [
              "     State                                    RegionName\n",
              "0  Alabama                    Auburn (Auburn University)\n",
              "1  Alabama        Florence (University of North Alabama)\n",
              "2  Alabama  Jacksonville (Jacksonville State University)\n",
              "3  Alabama       Livingston (University of West Alabama)\n",
              "4  Alabama         Montevallo (University of Montevallo)"
            ]
          },
          "metadata": {},
          "execution_count": 12
        }
      ]
    },
    {
      "cell_type": "code",
      "metadata": {
        "id": "T7lKV_raK7aC"
      },
      "source": [
        ""
      ],
      "execution_count": null,
      "outputs": []
    }
  ]
}