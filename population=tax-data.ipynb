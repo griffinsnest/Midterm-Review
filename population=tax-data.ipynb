{
  "nbformat": 4,
  "nbformat_minor": 0,
  "metadata": {
    "colab": {
      "name": "friday-9-17.ipynb",
      "provenance": [],
      "authorship_tag": "ABX9TyP7bQf5Qr5CieiEIbMBQy7r",
      "include_colab_link": true
    },
    "kernelspec": {
      "name": "python3",
      "display_name": "Python 3"
    },
    "language_info": {
      "name": "python"
    }
  },
  "cells": [
    {
      "cell_type": "markdown",
      "metadata": {
        "id": "view-in-github",
        "colab_type": "text"
      },
      "source": [
        "<a href=\"https://colab.research.google.com/github/griffinsnest/Midterm-Review/blob/main/population%3Dtax-data.ipynb\" target=\"_parent\"><img src=\"https://colab.research.google.com/assets/colab-badge.svg\" alt=\"Open In Colab\"/></a>"
      ]
    },
    {
      "cell_type": "code",
      "metadata": {
        "colab": {
          "base_uri": "https://localhost:8080/"
        },
        "id": "-ybpIR5oW1Lq",
        "outputId": "c5b82a70-1ca0-416b-815a-32bd517819ce"
      },
      "source": [
        "import pandas as pd\n",
        "import numpy as np\n",
        "from sklearn import linear_model as lm\n",
        "\n",
        "\n",
        "# Load data from CSV files into variable arrays\n",
        "taxData = pd.read_csv('/content/sales-and-use-tax (1).csv')\n",
        "popData = pd.read_csv('/content/HS-STAT-Population-of-Vermont-towns-1930-2019 (1).csv')\n",
        "\n",
        "# Data Eng. Steps\n",
        "# drop the column saving IDs from data set as it isn't needed\n",
        "popData = popData.drop('CTC', axis = 1)\n",
        "\n",
        "# Reshape data\n",
        "popData2 = popData.melt(id_vars=['NAME'], var_name='Calendar Year', value_name='Population')\n",
        "# Make sure data we're joining on are matching data types\n",
        "popData2 = popData2.astype({'Calendar Year' : 'int64', 'Population' : 'int32'})\n",
        "# Merge Taxdata with po data two, left is the what on the left we are joinning, right the right side being joined,\n",
        "# and inner makes it drop all none matching joins\n",
        "DATA = taxData.merge(popData2, left_on=['Town', 'Calendar Year' ], right_on=['NAME', 'Calendar Year'], how='inner')\n",
        "\n",
        "\n",
        "#DATA Mining Steps\n",
        "TargetFeature = \"Gross\"\n",
        "DATAFeatures = DATA.drop(TargetFeature, axis=1)\n",
        "MostValuedFeature = DATAFeatures.std().sort_values(ascending=False)[0:1]\n",
        "LeastValuedFeature = DATAFeatures.std().sort_values()[0:1]\n",
        "\n",
        "#Testing Data Mining Findings\n",
        "# Fill X vector with data from \"Retail\" column for linear regression \n",
        "# as it had the highest STD\n",
        "# X variables use DataFeatures while Y utilize original DATA\n",
        "xb = np.array(DATAFeatures[MostValuedFeature.index[0]])\n",
        "xb = xb.reshape(-1,1)\n",
        "\n",
        "# Fill Y vector with data from \"Gross\" column for linear regression\n",
        "yb = np.array(DATA[TargetFeature])\n",
        "yb = yb.reshape(-1,1)\n",
        "\n",
        "# feed both vectors into linear regression and save score of it into var.\n",
        "bestModel = lm.LinearRegression().fit(xb, yb)\n",
        "BMScore = bestModel.score(xb, yb)\n",
        "\n",
        "# Fill X vector with data from \"Calendar Year\" column for linear regression\n",
        "xw = np.array(DATAFeatures[LeastValuedFeature.index[0]])\n",
        "xw = xw.reshape(-1,1)\n",
        "# Fill Y vector with data from \"Gross\" column for linear regression\n",
        "yw = np.array(DATA[TargetFeature])\n",
        "yw = yw.reshape(-1,1)\n",
        "\n",
        "# feed both vectors into linear regression and save score of it into var.\n",
        "worstModel = lm.LinearRegression().fit(xw, yw)\n",
        "WMScore = worstModel.score(xw, yw)\n",
        "\n",
        "#New Data Model with best Features\n",
        "bestDataModel = DATA[[TargetFeature, MostValuedFeature.index[0]]]\n",
        "print(bestDataModel.head())\n",
        "\n",
        "# print data findings\n",
        "print('Best Model Score:', BMScore)\n",
        "print('Worst Model Score:', WMScore)\n"
      ],
      "execution_count": null,
      "outputs": [
        {
          "output_type": "stream",
          "name": "stdout",
          "text": [
            "          Gross       Retail\n",
            "0  1.831730e+06    489006.65\n",
            "1  3.246572e+07   1857137.48\n",
            "2  2.203010e+08  14313220.56\n",
            "3  6.075238e+07  16720375.88\n",
            "4  5.708651e+08  93688630.25\n",
            "Best Model Score: 0.8663761236994375\n",
            "Worst Model Score: 0.00014268782597559593\n"
          ]
        }
      ]
    },
    {
      "cell_type": "code",
      "metadata": {
        "id": "ch3Y_9uskucj"
      },
      "source": [
        "from google.colab import drive\n",
        "drive.mount('/content/drive')"
      ],
      "execution_count": null,
      "outputs": []
    }
  ]
}