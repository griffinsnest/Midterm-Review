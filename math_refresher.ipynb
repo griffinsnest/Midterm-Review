{
  "nbformat": 4,
  "nbformat_minor": 0,
  "metadata": {
    "colab": {
      "name": "math-refresher.ipynb",
      "provenance": [],
      "authorship_tag": "ABX9TyNqBGzzuiBwqh3KEAgFhgCh",
      "include_colab_link": true
    },
    "kernelspec": {
      "name": "python3",
      "display_name": "Python 3"
    },
    "language_info": {
      "name": "python"
    }
  },
  "cells": [
    {
      "cell_type": "markdown",
      "metadata": {
        "id": "view-in-github",
        "colab_type": "text"
      },
      "source": [
        "<a href=\"https://colab.research.google.com/github/griffinsnest/Midterm-Review/blob/main/math_refresher.ipynb\" target=\"_parent\"><img src=\"https://colab.research.google.com/assets/colab-badge.svg\" alt=\"Open In Colab\"/></a>"
      ]
    },
    {
      "cell_type": "code",
      "metadata": {
        "colab": {
          "base_uri": "https://localhost:8080/",
          "height": 1000
        },
        "id": "FOoxAhS637pJ",
        "outputId": "4095b540-5c88-45b2-8703-52a8043dfe12"
      },
      "source": [
        "import numpy as np\n",
        "from scipy import stats\n",
        "import matplotlib\n",
        "from sklearn.linear_model import LinearRegression\n",
        "\n",
        "x = np.random.rand(100)\n",
        "y = np.random.rand(100)\n",
        "matplotlib.pyplot.scatter(x,y)\n",
        "model = LinearRegression().fit(x.reshape(-1, 1), y.reshape(-1, 1) )\n",
        "r = model.score(x.reshape(-1, 1), y.reshape(-1, 1))\n",
        "print(r)\n",
        "modeled_y = model.predict(x.reshape(-1,1))\n",
        "matplotlib.pyplot.plot(x, modeled_y)\n",
        "\n",
        "\n",
        "x2 = np.mean(x)\n",
        "z = np.median(x)\n",
        "a = stats.mode(x)\n",
        "b = stats.median_absolute_deviation(x)\n",
        "c = np.std(x)\n",
        "d = np.var(x)\n",
        "e = np.corrcoef(x, y)\n",
        "f = stats.spearmanr(x, y)\n",
        "g = matplotlib.pyplot.scatter(x,y)\n",
        "h = np.log(x)\n",
        "i = np.exp(x)\n",
        "\n",
        "\n",
        "print(\"Mean: \", x2)\n",
        "print(\"Median: \", z)\n",
        "print(\"Mode: \", a)\n",
        "print(\"Absolute Deviation: \",  b)\n",
        "print(\"Standard Deviation: \", c)\n",
        "print(\"Variance: \", d)\n",
        "print(e)\n",
        "print(f)\n",
        "\n",
        "print(h)\n",
        "print(i)\n",
        "\n",
        "print(g)"
      ],
      "execution_count": 2,
      "outputs": [
        {
          "output_type": "stream",
          "name": "stdout",
          "text": [
            "0.00878191380363158\n",
            "Mean:  0.5119365623186418\n",
            "Median:  0.48930208835859557\n",
            "Mode:  ModeResult(mode=array([0.02326558]), count=array([1]))\n",
            "Absolute Deviation:  0.3406990442772971\n",
            "Standard Deviation:  0.26956805122106664\n",
            "Variance:  0.0726669342391236\n",
            "[[1.         0.09371187]\n",
            " [0.09371187 1.        ]]\n",
            "SpearmanrResult(correlation=0.08144014401440143, pvalue=0.4205302638791547)\n",
            "[-3.60384106e+00 -1.15624215e+00 -1.31886147e-01 -1.02988625e+00\n",
            " -1.82167375e+00 -8.16787641e-01 -1.21179369e+00 -1.12956631e-01\n",
            " -1.25903105e-01 -1.30190591e+00 -4.54320817e-01 -2.32972695e+00\n",
            " -3.66907072e+00 -9.88929674e-02 -8.34258616e-01 -1.31087438e+00\n",
            " -1.34568896e-01 -1.14166187e+00 -5.83963426e-01 -3.29950569e+00\n",
            " -7.55757793e-01 -8.94049526e-01 -9.13894312e-02 -1.80943721e+00\n",
            " -1.33127280e+00 -3.93156519e-01 -7.35854199e-01 -1.42329227e+00\n",
            " -2.73603052e-01 -4.24247029e-01 -8.88571697e-01 -8.19992051e-01\n",
            " -9.83330059e-01 -2.47339470e+00 -8.03903058e-01 -1.63736839e+00\n",
            " -1.14502334e+00 -1.44645361e-01 -6.88804125e-01 -1.79684905e+00\n",
            " -6.57452837e-01 -2.21903454e-01 -3.76078007e+00 -2.50814949e-01\n",
            " -7.47575263e-01 -6.94088258e-02 -4.65456697e-01 -3.22778097e-01\n",
            " -5.68992301e-01 -1.43677083e-01 -1.97741245e-01 -1.96461495e+00\n",
            " -3.90580534e-01 -8.89841772e-01 -6.03947431e-01 -1.07744504e+00\n",
            " -2.89016671e-01 -1.37958466e+00 -1.36145926e-01 -3.71469568e+00\n",
            " -6.30735705e-01 -1.56476138e+00 -3.22817359e-01 -1.26439918e-01\n",
            " -7.19650561e-01 -5.73638246e-01 -1.36701495e+00 -7.10733783e-01\n",
            " -1.17639393e+00 -2.09878100e-01 -7.18833041e-01 -2.92222366e-01\n",
            " -3.07307165e+00 -2.87983484e-01 -3.76875003e-01 -7.34567512e-02\n",
            " -5.88871785e-01 -7.97818713e-01 -8.74329355e-01 -7.34281331e-01\n",
            " -5.95646000e-01 -3.75460057e-01 -5.11769981e-01 -1.63466805e-01\n",
            " -1.14739434e-01 -1.97337939e-03 -2.68909705e-01 -1.09614800e+00\n",
            " -4.23564566e-01 -1.04382550e-01 -5.25160047e-01 -1.32803230e-01\n",
            " -1.38168652e+00 -2.71665712e-01 -1.13794528e+00 -2.36213458e+00\n",
            " -7.46826469e-01 -3.09588852e-01 -1.10770638e+00 -2.73782036e+00]\n",
            "[1.02759279 1.36980231 2.40233402 1.42910385 1.17557194 1.55558045\n",
            " 1.34670772 2.44290864 2.41500239 1.31260389 1.88679386 1.10221558\n",
            " 1.02582807 2.47400837 1.54372182 1.30941992 2.39669967 1.37614755\n",
            " 1.74662201 1.03759071 1.59944162 1.50530593 2.49094516 1.1779154\n",
            " 1.30231161 1.96388195 1.6146142  1.27241865 2.13963221 1.92372275\n",
            " 1.50869149 1.55338303 1.45362926 1.08795328 1.56451931 1.21469279\n",
            " 1.37467383 2.37578787 1.65231321 1.18036128 1.67895154 2.2277513\n",
            " 1.02353834 2.17747589 1.60562535 2.54198479 1.87357487 2.0629449\n",
            " 1.7613765  2.3777803  2.27182201 1.15051523 1.96730372 1.50790419\n",
            " 1.72745549 1.40560004 2.11488348 1.28618834 2.39340077 1.02466205\n",
            " 1.70267427 1.23261498 2.06288625 2.41385992 1.62730029 1.7567608\n",
            " 1.2902895  1.63441276 1.36123014 2.24944397 1.62794846 2.10981971\n",
            " 1.04736636 2.11652158 1.98576021 2.53242244 1.74185918 1.56879867\n",
            " 1.51761751 1.61583231 1.73534523 1.98769    1.82108714 2.33776346\n",
            " 2.43902516 2.7129282  2.14730219 1.39676071 1.92458219 2.46176999\n",
            " 1.80662542 2.40040476 1.28550883 2.14279057 1.37778459 1.09880024\n",
            " 1.60619496 2.0828738  1.39140734 1.06685092]\n",
            "<matplotlib.collections.PathCollection object at 0x7f182d310d50>\n"
          ]
        },
        {
          "output_type": "display_data",
          "data": {
            "image/png": "[encoded data removed]",
            "text/plain": [
              "<Figure size 432x288 with 1 Axes>"
            ]
          },
          "metadata": {
            "needs_background": "light"
          }
        }
      ]
    },
    {
      "cell_type": "code",
      "metadata": {
        "colab": {
          "base_uri": "https://localhost:8080/",
          "height": 298
        },
        "id": "zpHCinSMUCQW",
        "outputId": "0e8bafcb-3807-4e94-a38c-c9ac0d23e1f2"
      },
      "source": [
        "import numpy as np\n",
        "from scipy import stats\n",
        "import matplotlib\n",
        "from sklearn.linear_model import LinearRegression\n",
        "\n",
        "x = np.random.rand(100)\n",
        "y = np.random.rand(100)\n",
        "z = x + y\n",
        "matplotlib.pyplot.scatter(x,z)\n",
        "model = LinearRegression().fit(x.reshape(-1, 1), z.reshape(-1, 1) )\n",
        "r = model.score(x.reshape(-1, 1), z.reshape(-1, 1))\n",
        "print(r)\n",
        "modeled_y = model.predict(x.reshape(-1,1))\n",
        "matplotlib.pyplot.plot(x, modeled_y)\n"
      ],
      "execution_count": null,
      "outputs": [
        {
          "output_type": "stream",
          "name": "stdout",
          "text": [
            "0.5250277499197301\n"
          ]
        },
        {
          "output_type": "execute_result",
          "data": {
            "text/plain": [
              "[<matplotlib.lines.Line2D at 0x7f1905474b50>]"
            ]
          },
          "metadata": {},
          "execution_count": 16
        },
        {
          "output_type": "display_data",
          "data": {
            "image/png": "[encoded data removed]",
            "text/plain": [
              "<Figure size 432x288 with 1 Axes>"
            ]
          },
          "metadata": {
            "needs_background": "light"
          }
        }
      ]
    },
    {
      "cell_type": "code",
      "metadata": {
        "id": "A9WvSgjY4cIj"
      },
      "source": [
        ""
      ],
      "execution_count": null,
      "outputs": []
    }
  ]
}