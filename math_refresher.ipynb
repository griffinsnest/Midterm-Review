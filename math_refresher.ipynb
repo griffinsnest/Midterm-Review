{
  "nbformat": 4,
  "nbformat_minor": 0,
  "metadata": {
    "colab": {
      "name": "math-refresher.ipynb",
      "provenance": [],
      "authorship_tag": "ABX9TyPTx//KmG5fVS3tUYPN/i3t",
      "include_colab_link": true
    },
    "kernelspec": {
      "name": "python3",
      "display_name": "Python 3"
    },
    "language_info": {
      "name": "python"
    }
  },
  "cells": [
    {
      "cell_type": "markdown",
      "metadata": {
        "id": "view-in-github",
        "colab_type": "text"
      },
      "source": [
        "<a href=\"https://colab.research.google.com/github/griffinsnest/Midterm-Review/blob/main/math_refresher.ipynb\" target=\"_parent\"><img src=\"https://colab.research.google.com/assets/colab-badge.svg\" alt=\"Open In Colab\"/></a>"
      ]
    },
    {
      "cell_type": "code",
      "metadata": {
        "colab": {
          "base_uri": "https://localhost:8080/",
          "height": 1000
        },
        "id": "FOoxAhS637pJ",
        "outputId": "b64864ad-1a4d-42bd-ce99-0073cc3b4456"
      },
      "source": [
        "import numpy as np\n",
        "from scipy import stats\n",
        "import matplotlib\n",
        "from sklearn.linear_model import LinearRegression\n",
        "\n",
        "x = np.random.rand(100)\n",
        "y = np.random.rand(100)\n",
        "matplotlib.pyplot.scatter(x,y)\n",
        "model = LinearRegression().fit(x.reshape(-1, 1), y.reshape(-1, 1) )\n",
        "r = model.score(x.reshape(-1, 1), y.reshape(-1, 1))\n",
        "print(r)\n",
        "modeled_y = model.predict(x.reshape(-1,1))\n",
        "matplotlib.pyplot.plot(x, modeled_y)\n",
        "\n",
        "\n",
        "x2 = np.mean(x)\n",
        "z = np.median(x)\n",
        "a = stats.mode(x)\n",
        "b = stats.median_absolute_deviation(x)\n",
        "c = np.std(x)\n",
        "d = np.var(x)\n",
        "e = np.corrcoef(x, y)\n",
        "f = stats.spearmanr(x, y)\n",
        "g = matplotlib.pyplot.scatter(x,y)\n",
        "h = np.log(x)\n",
        "i = np.exp(x)\n",
        "\n",
        "\n",
        "print(x2)\n",
        "print(z)\n",
        "print(a)\n",
        "print(b)\n",
        "print(c)\n",
        "print(d)\n",
        "print(e)\n",
        "print(f)\n",
        "\n",
        "print(h)\n",
        "print(i)\n",
        "\n",
        "print(g)"
      ],
      "execution_count": null,
      "outputs": [
        {
          "output_type": "stream",
          "name": "stdout",
          "text": [
            "0.000717224256707838\n",
            "0.46161490913460057\n",
            "0.41135612557172374\n",
            "ModeResult(mode=array([0.0041204]), count=array([1]))\n",
            "0.35065224177408866\n",
            "0.2863650638950852\n",
            "0.08200494981963624\n",
            "[[ 1.         -0.02678104]\n",
            " [-0.02678104  1.        ]]\n",
            "SpearmanrResult(correlation=-0.025586558655865583, pvalue=0.8005077104190437)\n",
            "[-0.49543615 -1.24083234 -0.11990291 -0.21072884 -0.30895919 -0.08277679\n",
            " -0.03321248 -0.32252464 -0.29405538 -0.26030469 -1.13183817 -0.19385801\n",
            " -0.91735915 -1.47320725 -0.07193363 -0.91799146 -1.2717912  -0.47869254\n",
            " -0.49632381 -0.3792498  -0.28480019 -0.12437805 -1.47304834 -0.43373393\n",
            " -3.2796306  -0.05870535 -2.21504453 -0.964411   -2.85910885 -0.64420884\n",
            " -5.49180476 -0.89653124 -2.65586007 -0.42906268 -0.65887    -1.59913026\n",
            " -0.51234671 -1.86268675 -1.91399956 -1.05945159 -0.07212913 -1.37505995\n",
            " -1.59628172 -1.87313318 -1.29059691 -0.51486756 -0.25789424 -0.066906\n",
            " -1.67009152 -0.43440335 -2.34931364 -1.57780533 -1.69173993 -0.34640132\n",
            " -0.6306539  -0.369287   -0.19276786 -1.95891368 -0.48447518 -0.75598591\n",
            " -2.61453151 -0.88012794 -1.79802403 -0.93877037 -2.78437774 -4.69716405\n",
            " -1.41685732 -1.09922163 -1.07441468 -0.02875569 -3.18526353 -0.11491773\n",
            " -0.50467194 -1.25867727 -1.0861082  -0.78907987 -0.47863597 -0.82895412\n",
            " -0.07631781 -1.51565382 -3.37223146 -1.17969582 -2.59537295 -0.27857242\n",
            " -0.32151891 -0.83576843 -0.47651236 -0.33059251 -0.5920572  -0.98791847\n",
            " -1.42052458 -1.95482044 -1.45313701 -1.61036453 -0.18688096 -1.47757754\n",
            " -0.18460343 -1.75838336 -0.19529485 -1.62150955]\n",
            "[1.83915293 1.33528326 2.42785111 2.24789376 2.08383664 2.51068745\n",
            " 2.63091843 2.06332361 2.10693697 2.16153084 1.38049208 2.27908687\n",
            " 1.49118762 1.25758    2.53601171 1.49081103 1.32356526 1.85817153\n",
            " 1.83815892 1.98253164 2.12158729 2.41825437 1.25762581 1.91187545\n",
            " 1.0383596  2.5676333  1.11532814 1.4640516  1.05899444 1.69059037\n",
            " 1.0041289  1.5037807  1.0727639  1.91768574 1.67771996 1.22393636\n",
            " 1.82045786 1.16795568 1.1589209  1.41431578 2.53555044 1.28765719\n",
            " 1.22464208 1.1660728  1.31667092 1.81771412 2.16555558 2.5479347\n",
            " 1.20711092 1.91104646 1.10013692 1.22927878 1.20225475 2.02836207\n",
            " 1.7027484  1.99616333 2.2811356  1.15143791 1.85154497 1.59927029\n",
            " 1.07594794 1.51396169 1.18013146 1.47861887 1.06371502 1.00916283\n",
            " 1.27439919 1.39532907 1.40705319 2.64231076 1.04223489 2.4386375\n",
            " 1.8288797  1.32847208 1.40147819 1.57501151 1.85823666 1.54729087\n",
            " 2.5257087  1.24565876 1.03490847 1.35984704 1.07747252 2.13157992\n",
            " 2.06482797 1.54271092 1.86068604 2.05134954 1.73878761 1.45114216\n",
            " 1.27326854 1.15210407 1.26343676 1.22117653 2.29226974 1.25632375\n",
            " 2.29660958 1.18806178 2.2763928  1.21847513]\n",
            "<matplotlib.collections.PathCollection object at 0x7f19053b2f50>\n"
          ]
        },
        {
          "output_type": "display_data",
          "data": {
            "image/png": "[encoded data removed]",
            "text/plain": [
              "<Figure size 432x288 with 1 Axes>"
            ]
          },
          "metadata": {
            "needs_background": "light"
          }
        }
      ]
    },
    {
      "cell_type": "code",
      "metadata": {
        "colab": {
          "base_uri": "https://localhost:8080/",
          "height": 298
        },
        "id": "zpHCinSMUCQW",
        "outputId": "0e8bafcb-3807-4e94-a38c-c9ac0d23e1f2"
      },
      "source": [
        "import numpy as np\n",
        "from scipy import stats\n",
        "import matplotlib\n",
        "from sklearn.linear_model import LinearRegression\n",
        "\n",
        "x = np.random.rand(100)\n",
        "y = np.random.rand(100)\n",
        "z = x + y\n",
        "matplotlib.pyplot.scatter(x,z)\n",
        "model = LinearRegression().fit(x.reshape(-1, 1), z.reshape(-1, 1) )\n",
        "r = model.score(x.reshape(-1, 1), z.reshape(-1, 1))\n",
        "print(r)\n",
        "modeled_y = model.predict(x.reshape(-1,1))\n",
        "matplotlib.pyplot.plot(x, modeled_y)\n"
      ],
      "execution_count": null,
      "outputs": [
        {
          "output_type": "stream",
          "name": "stdout",
          "text": [
            "0.5250277499197301\n"
          ]
        },
        {
          "output_type": "execute_result",
          "data": {
            "text/plain": [
              "[<matplotlib.lines.Line2D at 0x7f1905474b50>]"
            ]
          },
          "metadata": {},
          "execution_count": 16
        },
        {
          "output_type": "display_data",
          "data": {
            "image/png": "[encoded data removed]",
            "text/plain": [
              "<Figure size 432x288 with 1 Axes>"
            ]
          },
          "metadata": {
            "needs_background": "light"
          }
        }
      ]
    },
    {
      "cell_type": "code",
      "metadata": {
        "id": "A9WvSgjY4cIj"
      },
      "source": [
        ""
      ],
      "execution_count": null,
      "outputs": []
    }
  ]
}